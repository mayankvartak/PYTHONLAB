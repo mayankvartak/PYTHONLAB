{
  "nbformat": 4,
  "nbformat_minor": 0,
  "metadata": {
    "colab": {
      "provenance": [],
      "authorship_tag": "ABX9TyNdfdb7LbzWRsKMJelY7CcN",
      "include_colab_link": true
    },
    "kernelspec": {
      "name": "python3",
      "display_name": "Python 3"
    },
    "language_info": {
      "name": "python"
    }
  },
  "cells": [
    {
      "cell_type": "markdown",
      "metadata": {
        "id": "view-in-github",
        "colab_type": "text"
      },
      "source": [
        "<a href=\"https://colab.research.google.com/github/mayankvartak/PYTHONLAB/blob/main/exp01.ipynb\" target=\"_parent\"><img src=\"https://colab.research.google.com/assets/colab-badge.svg\" alt=\"Open In Colab\"/></a>"
      ]
    },
    {
      "cell_type": "code",
      "execution_count": null,
      "metadata": {
        "colab": {
          "base_uri": "https://localhost:8080/"
        },
        "id": "tK0JjPytwzxO",
        "outputId": "0a337a71-c6ee-409c-c87f-dda6bc5e8033"
      },
      "outputs": [
        {
          "output_type": "stream",
          "name": "stdout",
          "text": [
            "This is a string\n",
            "This is a string\n",
            "This is also\n",
            "a string\n"
          ]
        }
      ],
      "source": [
        "#Strings in Python\n",
        "a = 'This is a string'\n",
        "print (a)\n",
        "b = \"This is a string\"\n",
        "print (b)\n",
        "c= '''This is also\n",
        "a string'''\n",
        "print (c)"
      ]
    },
    {
      "cell_type": "code",
      "source": [
        "L = [1, \"a\" , \"string\" , 1+2,1.0]\n",
        "print (L)\n",
        "L.append(6)\n",
        "L.append(\"mayank\")\n",
        "print (L)\n",
        "print (L[1])\n",
        "print (L[6])\n",
        "del L[6]\n",
        "print (L)"
      ],
      "metadata": {
        "colab": {
          "base_uri": "https://localhost:8080/"
        },
        "id": "TRHuDOUmzuco",
        "outputId": "64c91574-b65e-436b-8e43-298a0c2fd442"
      },
      "execution_count": null,
      "outputs": [
        {
          "output_type": "stream",
          "name": "stdout",
          "text": [
            "[1, 'a', 'string', 3, 1.0]\n",
            "[1, 'a', 'string', 3, 1.0, 6, 'mayank']\n",
            "a\n",
            "mayank\n",
            "[1, 'a', 'string', 3, 1.0, 6]\n"
          ]
        }
      ]
    },
    {
      "cell_type": "code",
      "source": [
        "tup = (1, \"a\", \"string\", 1+2)\n",
        "print(tup)\n",
        "tup1=(5,)\n",
        "print(tup1)\n",
        "print(tup[1])\n",
        "combined_tup = tup1 + tup\n",
        "print(combined_tup)\n",
        "repeated = tup * 3\n",
        "print (repeated)\n",
        "print(2 in tup)\n"
      ],
      "metadata": {
        "colab": {
          "base_uri": "https://localhost:8080/"
        },
        "id": "nJOpPCityHCY",
        "outputId": "534c8025-1629-43fe-a842-f3f966782dcf"
      },
      "execution_count": null,
      "outputs": [
        {
          "output_type": "stream",
          "name": "stdout",
          "text": [
            "(1, 'a', 'string', 3)\n",
            "(5,)\n",
            "a\n",
            "(5, 1, 'a', 'string', 3)\n",
            "(1, 'a', 'string', 3, 1, 'a', 'string', 3, 1, 'a', 'string', 3)\n",
            "False\n",
            "(1, 'a', 'string', 3)\n"
          ]
        }
      ]
    },
    {
      "cell_type": "code",
      "source": [
        "d = {1: 'mayank', 2: 'Bhuvanesh', 3: 'Vartak'}\n",
        "print(d)\n",
        "d2 = dict(a = \"House\", b = \"of\", c = \"Cards\")\n",
        "print(d2)\n",
        "print(d[1])\n",
        "d[\"year\"]= 2005\n",
        "print(d)\n",
        "d[4] = \"year\"\n",
        "print(d[4])\n",
        "del d[2]\n",
        "print(d)\n",
        "\n"
      ],
      "metadata": {
        "colab": {
          "base_uri": "https://localhost:8080/"
        },
        "id": "xG2Br9uk4wRg",
        "outputId": "c45b1ed7-8edc-409c-b164-26aa6a0a8690"
      },
      "execution_count": null,
      "outputs": [
        {
          "output_type": "stream",
          "name": "stdout",
          "text": [
            "{1: 'mayank', 2: 'Bhuvanesh', 3: 'Vartak'}\n",
            "{'a': 'House', 'b': 'of', 'c': 'Cards'}\n",
            "mayank\n",
            "{1: 'mayank', 2: 'Bhuvanesh', 3: 'Vartak', 'year': 2005}\n",
            "year\n",
            "{1: 'mayank', 3: 'Vartak', 'year': 2005, 4: 'year'}\n"
          ]
        }
      ]
    }
  ]
}