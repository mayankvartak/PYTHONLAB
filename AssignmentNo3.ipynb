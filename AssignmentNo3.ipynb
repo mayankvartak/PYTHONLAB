{
  "cells": [
    {
      "cell_type": "markdown",
      "metadata": {
        "id": "view-in-github",
        "colab_type": "text"
      },
      "source": [
        "<a href=\"https://colab.research.google.com/github/mayankvartak/PYTHONLAB/blob/main/AssignmentNo3.ipynb\" target=\"_parent\"><img src=\"https://colab.research.google.com/assets/colab-badge.svg\" alt=\"Open In Colab\"/></a>"
      ]
    },
    {
      "cell_type": "markdown",
      "id": "d5fd74e5-20e6-4cea-a923-700246fded78",
      "metadata": {
        "id": "d5fd74e5-20e6-4cea-a923-700246fded78"
      },
      "source": [
        "#### Swayam Raut SE3-25"
      ]
    },
    {
      "cell_type": "code",
      "execution_count": 2,
      "id": "59809db3-20ee-434d-8dc5-168378b86749",
      "metadata": {
        "colab": {
          "base_uri": "https://localhost:8080/"
        },
        "id": "59809db3-20ee-434d-8dc5-168378b86749",
        "outputId": "9f716d81-8045-4cde-a333-54820a548c7d"
      },
      "outputs": [
        {
          "output_type": "stream",
          "name": "stdout",
          "text": [
            "Original List:\n",
            "1 -> 2 -> 3 -> 4 -> 5 -> None\n",
            "Rotated List:\n",
            "4 -> 5 -> 1 -> 2 -> 3 -> None\n"
          ]
        }
      ],
      "source": [
        "class LL:\n",
        "    class Node:\n",
        "        def __init__(self, value):\n",
        "            self.value = value\n",
        "            self.next = None\n",
        "\n",
        "    def __init__(self):\n",
        "        self.head = None\n",
        "        self.tail = None\n",
        "\n",
        "    def insertNode(self, value):\n",
        "        new_node = self.Node(value)\n",
        "        if self.head is None:\n",
        "            self.head = new_node\n",
        "            self.tail = new_node\n",
        "        else:\n",
        "            self.tail.next = new_node\n",
        "            self.tail = new_node\n",
        "\n",
        "    def printLL(self):\n",
        "        cnode = self.head\n",
        "        while cnode:\n",
        "            print(cnode.value, end=\" -> \")\n",
        "            cnode = cnode.next\n",
        "        print(\"None\")\n",
        "\n",
        "    def rotateLL(self, k):\n",
        "        if not self.head or k == 0:\n",
        "            return\n",
        "\n",
        "        # Compute the length of the linked list\n",
        "        length = 1\n",
        "        tail = self.head\n",
        "        while tail.next:\n",
        "            tail = tail.next\n",
        "            length += 1\n",
        "\n",
        "        # Adjust k if it's greater than the length\n",
        "        k = k % length\n",
        "        if k == 0:\n",
        "            return\n",
        "\n",
        "        # Find the new tail (length - k - 1)\n",
        "        new_tail = self.head\n",
        "        for _ in range(length - k - 1):\n",
        "            new_tail = new_tail.next\n",
        "\n",
        "        # Update head and tail pointers\n",
        "        new_head = new_tail.next\n",
        "        new_tail.next = None\n",
        "        tail.next = self.head\n",
        "        self.head = new_head\n",
        "        self.tail = new_tail\n",
        "\n",
        "# Example usage\n",
        "values = [1, 2, 3, 4, 5]\n",
        "ll = LL()\n",
        "for val in values:\n",
        "    ll.insertNode(val)\n",
        "\n",
        "print(\"Original List:\")\n",
        "ll.printLL()\n",
        "\n",
        "ll.rotateLL(2)\n",
        "\n",
        "print(\"Rotated List:\")\n",
        "ll.printLL()\n"
      ]
    },
    {
      "cell_type": "code",
      "execution_count": null,
      "id": "8e875218-6ccf-4416-869e-c6748dee7f58",
      "metadata": {
        "id": "8e875218-6ccf-4416-869e-c6748dee7f58"
      },
      "outputs": [],
      "source": []
    }
  ],
  "metadata": {
    "kernelspec": {
      "display_name": "Python [conda env:base] *",
      "language": "python",
      "name": "conda-base-py"
    },
    "language_info": {
      "codemirror_mode": {
        "name": "ipython",
        "version": 3
      },
      "file_extension": ".py",
      "mimetype": "text/x-python",
      "name": "python",
      "nbconvert_exporter": "python",
      "pygments_lexer": "ipython3",
      "version": "3.11.5"
    },
    "colab": {
      "provenance": [],
      "include_colab_link": true
    }
  },
  "nbformat": 4,
  "nbformat_minor": 5
}