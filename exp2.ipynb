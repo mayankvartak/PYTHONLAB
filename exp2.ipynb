{
  "nbformat": 4,
  "nbformat_minor": 0,
  "metadata": {
    "colab": {
      "provenance": [],
      "authorship_tag": "ABX9TyPqjec6lutsMmAcDdEy1Xiw",
      "include_colab_link": true
    },
    "kernelspec": {
      "name": "python3",
      "display_name": "Python 3"
    },
    "language_info": {
      "name": "python"
    }
  },
  "cells": [
    {
      "cell_type": "markdown",
      "metadata": {
        "id": "view-in-github",
        "colab_type": "text"
      },
      "source": [
        "<a href=\"https://colab.research.google.com/github/mayankvartak/PYTHONLAB/blob/main/exp2.ipynb\" target=\"_parent\"><img src=\"https://colab.research.google.com/assets/colab-badge.svg\" alt=\"Open In Colab\"/></a>"
      ]
    },
    {
      "cell_type": "code",
      "execution_count": 39,
      "metadata": {
        "colab": {
          "base_uri": "https://localhost:8080/"
        },
        "id": "BriyDebP41Cy",
        "outputId": "a4760566-49b4-49bf-c173-3f1647bb64a3"
      },
      "outputs": [
        {
          "output_type": "stream",
          "name": "stdout",
          "text": [
            "True\n",
            "False\n",
            "False\n"
          ]
        }
      ],
      "source": [
        "class conditionalStatements:\n",
        "  def checkString(s: str) -> bool:\n",
        "    found_b = False\n",
        "    for char in s:\n",
        "        if char == 'b':\n",
        "            found_b = True\n",
        "        elif char == 'a' and found_b:\n",
        "            return False\n",
        "    return True\n",
        "\n",
        "print(checkString(\"aaabbb\"))\n",
        "print(checkString(\"abab\"))\n",
        "print(checkString(\"abbaab\"))"
      ]
    },
    {
      "cell_type": "code",
      "source": [],
      "metadata": {
        "id": "lmg81LnV6Zsu"
      },
      "execution_count": null,
      "outputs": []
    },
    {
      "cell_type": "code",
      "source": [],
      "metadata": {
        "id": "DgugXAxT6Z5c"
      },
      "execution_count": null,
      "outputs": []
    }
  ]
}