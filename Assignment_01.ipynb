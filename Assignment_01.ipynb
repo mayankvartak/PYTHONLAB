{
  "cells": [
    {
      "cell_type": "markdown",
      "metadata": {
        "id": "view-in-github",
        "colab_type": "text"
      },
      "source": [
        "<a href=\"https://colab.research.google.com/github/mayankvartak/PYTHONLAB/blob/main/Assignment_01.ipynb\" target=\"_parent\"><img src=\"https://colab.research.google.com/assets/colab-badge.svg\" alt=\"Open In Colab\"/></a>"
      ]
    },
    {
      "cell_type": "markdown",
      "id": "3d7267bc-59d6-4310-a05b-063eb7d9ff17",
      "metadata": {
        "id": "3d7267bc-59d6-4310-a05b-063eb7d9ff17"
      },
      "source": [
        "### MAYANK VARTAK\n",
        "### Roll No.71\n",
        "### Assignment No. 01"
      ]
    },
    {
      "cell_type": "code",
      "execution_count": null,
      "id": "870f9bff-52ad-4e14-8de8-b47e12ce8b55",
      "metadata": {
        "id": "870f9bff-52ad-4e14-8de8-b47e12ce8b55",
        "outputId": "a68118e2-c120-4a76-a2c4-1151dab2554d"
      },
      "outputs": [
        {
          "name": "stdout",
          "output_type": "stream",
          "text": [
            "\n",
            "1. Add a new product\n",
            "2. Update the stock of an existing product\n",
            "3. View product details\n",
            "4. Exit the program\n"
          ]
        },
        {
          "name": "stdout",
          "output_type": "stream",
          "text": [
            "Enter your choice:  1\n",
            "Enter product name:  Laptop\n",
            "Enter product price:  999.99\n",
            "Enter product stock:  10\n"
          ]
        },
        {
          "name": "stdout",
          "output_type": "stream",
          "text": [
            "Product added successfully!\n",
            "\n",
            "1. Add a new product\n",
            "2. Update the stock of an existing product\n",
            "3. View product details\n",
            "4. Exit the program\n"
          ]
        },
        {
          "name": "stdout",
          "output_type": "stream",
          "text": [
            "Enter your choice:  2\n",
            "Enter product name to update:  Laptop\n",
            "Enter quantity to add/remove:  -2\n"
          ]
        },
        {
          "name": "stdout",
          "output_type": "stream",
          "text": [
            "Stock updated successfully!\n",
            "\n",
            "1. Add a new product\n",
            "2. Update the stock of an existing product\n",
            "3. View product details\n",
            "4. Exit the program\n"
          ]
        },
        {
          "name": "stdout",
          "output_type": "stream",
          "text": [
            "Enter your choice:  3\n",
            "Enter product name:  Laptop\n"
          ]
        },
        {
          "name": "stdout",
          "output_type": "stream",
          "text": [
            "Product: Laptop, Price: $999.99, Stock: 8\n",
            "\n",
            "1. Add a new product\n",
            "2. Update the stock of an existing product\n",
            "3. View product details\n",
            "4. Exit the program\n"
          ]
        },
        {
          "name": "stdout",
          "output_type": "stream",
          "text": [
            "Enter your choice:  4\n"
          ]
        },
        {
          "name": "stdout",
          "output_type": "stream",
          "text": [
            "Exiting the system. Goodbye!\n"
          ]
        }
      ],
      "source": [
        "class Product:\n",
        "    def __init__(self, name, price, stock):\n",
        "        self.name = name\n",
        "        self.price = price\n",
        "        self.stock = stock\n",
        "\n",
        "    def update_stock(self, quantity):\n",
        "        self.stock += quantity\n",
        "\n",
        "    def __str__(self):\n",
        "        return f\"Product: {self.name}, Price: ${self.price}, Stock: {self.stock}\"\n",
        "\n",
        "\n",
        "def add_product(products):\n",
        "    name = input(\"Enter product name: \")\n",
        "    price = float(input(\"Enter product price: \"))\n",
        "    stock = int(input(\"Enter product stock: \"))\n",
        "    products[name] = Product(name, price, stock)\n",
        "    print(\"Product added successfully!\")\n",
        "\n",
        "def update_product_stock(products):\n",
        "    name = input(\"Enter product name to update: \")\n",
        "    if name in products:\n",
        "        quantity = int(input(\"Enter quantity to add/remove: \"))\n",
        "        products[name].update_stock(quantity)\n",
        "        print(\"Stock updated successfully!\")\n",
        "    else:\n",
        "        print(\"Product not found!\")\n",
        "\n",
        "\n",
        "def view_product_details(products):\n",
        "    name = input(\"Enter product name: \")\n",
        "    if name in products:\n",
        "        print(products[name])\n",
        "    else:\n",
        "        print(\"Product not found!\")\n",
        "\n",
        "\n",
        "def main():\n",
        "    products = {}\n",
        "    while True:\n",
        "        print(\"\\n1. Add a new product\")\n",
        "        print(\"2. Update the stock of an existing product\")\n",
        "        print(\"3. View product details\")\n",
        "        print(\"4. Exit the program\")\n",
        "        choice = input(\"Enter your choice: \")\n",
        "\n",
        "        if choice == '1':\n",
        "            add_product(products)\n",
        "        elif choice == '2':\n",
        "            update_product_stock(products)\n",
        "        elif choice == '3':\n",
        "            view_product_details(products)\n",
        "        elif choice == '4':\n",
        "            print(\"Exiting the system. Goodbye!\")\n",
        "            break\n",
        "        else:\n",
        "            print(\"Invalid choice. Please try again.\")\n",
        "\n",
        "if __name__ == \"__main__\":\n",
        "    main()"
      ]
    }
  ],
  "metadata": {
    "kernelspec": {
      "display_name": "Python 3 (ipykernel)",
      "language": "python",
      "name": "python3"
    },
    "language_info": {
      "codemirror_mode": {
        "name": "ipython",
        "version": 3
      },
      "file_extension": ".py",
      "mimetype": "text/x-python",
      "name": "python",
      "nbconvert_exporter": "python",
      "pygments_lexer": "ipython3",
      "version": "3.11.4"
    },
    "colab": {
      "provenance": [],
      "toc_visible": true,
      "include_colab_link": true
    }
  },
  "nbformat": 4,
  "nbformat_minor": 5
}