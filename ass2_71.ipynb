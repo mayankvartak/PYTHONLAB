{
  "cells": [
    {
      "cell_type": "markdown",
      "metadata": {
        "id": "view-in-github",
        "colab_type": "text"
      },
      "source": [
        "<a href=\"https://colab.research.google.com/github/mayankvartak/PYTHONLAB/blob/main/ass2_71.ipynb\" target=\"_parent\"><img src=\"https://colab.research.google.com/assets/colab-badge.svg\" alt=\"Open In Colab\"/></a>"
      ]
    },
    {
      "cell_type": "markdown",
      "id": "1d351bb4",
      "metadata": {
        "id": "1d351bb4"
      },
      "source": [
        "#### MAYANK VARTAK SE3 S3- 71"
      ]
    },
    {
      "cell_type": "code",
      "execution_count": 4,
      "id": "813c3003-b3c5-4c0c-8e6f-4e874bc2fb91",
      "metadata": {
        "colab": {
          "base_uri": "https://localhost:8080/"
        },
        "id": "813c3003-b3c5-4c0c-8e6f-4e874bc2fb91",
        "outputId": "f270e820-72c6-4bb3-b07a-151f963684be"
      },
      "outputs": [
        {
          "output_type": "execute_result",
          "data": {
            "text/plain": [
              "[('2025-02-10 15:45:32',\n",
              "  'Net_Module',\n",
              "  'Connection timeout from 192.168.1.10. Error Code: 0xAB12CD34'),\n",
              " ('2025-02-10 17:12:05',\n",
              "  'Security_Module',\n",
              "  'Unauthorized access detected from 10.0.0.5. Error Code: 0xDEADBEEF'),\n",
              " ('2025-02-10 19:00:00',\n",
              "  'Net_Module',\n",
              "  'Connection lost from 256.100.10.10. Error Code: 0x12345678')]"
            ]
          },
          "metadata": {},
          "execution_count": 4
        }
      ],
      "source": [
        "import re\n",
        "\n",
        "def extract_critical_errors(log_data: str) -> list[tuple]:\n",
        "    pattern = (r'\\[([\\d-]+ [\\d:]+)\\] \\[ERROR\\] \\[([a-zA-Z0-9_]+)\\] '\n",
        "               r'(.*?(?:(?:25[0-5]|2[0-4][0-9]|1?[0-9][0-9]?)\\.'\n",
        "               r'(?:25[0-5]|2[0-4][0-9]|1?[0-9][0-9]?)\\.'\n",
        "               r'(?:25[0-5]|2[0-4][0-9]|1?[0-9][0-9]?)\\.'\n",
        "               r'(?:25[0-5]|2[0-4][0-9]|1?[0-9][0-9]?))'\n",
        "               r'.*?0x[0-9A-Fa-f]{8}.*)')\n",
        "\n",
        "    matches = re.findall(pattern, log_data)\n",
        "\n",
        "    return matches\n",
        "log_data = \"\"\"[2025-02-10 15:45:32] [ERROR] [Net_Module] Connection timeout from 192.168.1.10. Error Code: 0xAB12CD34\n",
        "[2025-02-10 17:12:05] [ERROR] [Security_Module] Unauthorized access detected from 10.0.0.5. Error Code: 0xDEADBEEF\n",
        "[2025-02-10 18:30:12] [WARNING] [Other_Module] Non-critical issue detected.\n",
        "[2025-02-10 19:00:00] [ERROR] [Net_Module] Connection lost from 256.100.10.10. Error Code: 0x12345678\"\"\"\n",
        "\n",
        "extract_critical_errors(log_data)\n"
      ]
    },
    {
      "cell_type": "code",
      "execution_count": null,
      "id": "e69a1a0c-dee2-47c9-abc6-a1d8b59cf854",
      "metadata": {
        "id": "e69a1a0c-dee2-47c9-abc6-a1d8b59cf854"
      },
      "outputs": [],
      "source": []
    }
  ],
  "metadata": {
    "kernelspec": {
      "display_name": "Torch_Kernal",
      "language": "python",
      "name": "torch_kernal"
    },
    "language_info": {
      "codemirror_mode": {
        "name": "ipython",
        "version": 3
      },
      "file_extension": ".py",
      "mimetype": "text/x-python",
      "name": "python",
      "nbconvert_exporter": "python",
      "pygments_lexer": "ipython3",
      "version": "3.11.5"
    },
    "colab": {
      "provenance": [],
      "include_colab_link": true
    }
  },
  "nbformat": 4,
  "nbformat_minor": 5
}