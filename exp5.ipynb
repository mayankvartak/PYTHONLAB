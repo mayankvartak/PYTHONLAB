{
  "nbformat": 4,
  "nbformat_minor": 0,
  "metadata": {
    "colab": {
      "provenance": [],
      "authorship_tag": "ABX9TyMJYmvIV6trlqlK2y9+Kq+X",
      "include_colab_link": true
    },
    "kernelspec": {
      "name": "python3",
      "display_name": "Python 3"
    },
    "language_info": {
      "name": "python"
    }
  },
  "cells": [
    {
      "cell_type": "markdown",
      "metadata": {
        "id": "view-in-github",
        "colab_type": "text"
      },
      "source": [
        "<a href=\"https://colab.research.google.com/github/mayankvartak/PYTHONLAB/blob/main/exp5.ipynb\" target=\"_parent\"><img src=\"https://colab.research.google.com/assets/colab-badge.svg\" alt=\"Open In Colab\"/></a>"
      ]
    },
    {
      "cell_type": "code",
      "source": [
        "stack = list ()\n",
        "\n",
        "# Append Operation\n",
        "stack.append ('a')\n",
        "stack.append ('b')\n",
        "stack.append ('c')\n",
        "print ('Initial Stack')\n",
        "print (stack)"
      ],
      "metadata": {
        "colab": {
          "base_uri": "https://localhost:8080/"
        },
        "id": "mCAOMThVRgYO",
        "outputId": "2f27b59a-81cc-4063-c572-4378b27ab304"
      },
      "execution_count": 11,
      "outputs": [
        {
          "output_type": "stream",
          "name": "stdout",
          "text": [
            "Initial Stack\n",
            "['a', 'b', 'c']\n"
          ]
        }
      ]
    },
    {
      "cell_type": "code",
      "source": [
        "# Pop Operation\n",
        "print (stack.pop ())\n",
        "print (stack.pop ())\n",
        "print (stack.pop ())\n",
        "print (stack)"
      ],
      "metadata": {
        "colab": {
          "base_uri": "https://localhost:8080/"
        },
        "id": "4Bq_sLqxRga9",
        "outputId": "6cb3081f-1aa1-4c04-faca-06e58ceac13d"
      },
      "execution_count": 12,
      "outputs": [
        {
          "output_type": "stream",
          "name": "stdout",
          "text": [
            "c\n",
            "b\n",
            "a\n",
            "[]\n"
          ]
        }
      ]
    },
    {
      "cell_type": "code",
      "source": [
        "def maxDepth(s: str) -> int:\n",
        "    depth = 0\n",
        "    max_depth = 0\n",
        "\n",
        "    for char in s:\n",
        "        if char == '(':\n",
        "            depth += 1\n",
        "            max_depth = max(depth, max_depth)\n",
        "        elif char == ')':\n",
        "            depth -= 1\n",
        "\n",
        "    return max_depth\n",
        "\n",
        "s1 = \"(1+(2*3)+((8)/4))+1\"\n",
        "s2 = \"(1)+((2))+(((3)))\"\n",
        "s3 = \"()(())((()()))\"\n",
        "\n",
        "print(maxDepth(s1))\n",
        "print(maxDepth(s2))\n",
        "print(maxDepth(s3))\n"
      ],
      "metadata": {
        "colab": {
          "base_uri": "https://localhost:8080/"
        },
        "id": "ISFyX4DHRgd-",
        "outputId": "ed411f46-8d1f-4bc5-ce18-cd954a1c1423"
      },
      "execution_count": 10,
      "outputs": [
        {
          "output_type": "stream",
          "name": "stdout",
          "text": [
            "3\n",
            "3\n",
            "3\n"
          ]
        }
      ]
    }
  ]
}