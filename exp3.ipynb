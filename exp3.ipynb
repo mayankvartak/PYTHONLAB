{
  "nbformat": 4,
  "nbformat_minor": 0,
  "metadata": {
    "colab": {
      "provenance": [],
      "authorship_tag": "ABX9TyNLFxg07C0fh2pF2fAQzTaZ",
      "include_colab_link": true
    },
    "kernelspec": {
      "name": "python3",
      "display_name": "Python 3"
    },
    "language_info": {
      "name": "python"
    }
  },
  "cells": [
    {
      "cell_type": "markdown",
      "metadata": {
        "id": "view-in-github",
        "colab_type": "text"
      },
      "source": [
        "<a href=\"https://colab.research.google.com/github/mayankvartak/PYTHONLAB/blob/main/exp3.ipynb\" target=\"_parent\"><img src=\"https://colab.research.google.com/assets/colab-badge.svg\" alt=\"Open In Colab\"/></a>"
      ]
    },
    {
      "cell_type": "code",
      "execution_count": 1,
      "metadata": {
        "colab": {
          "base_uri": "https://localhost:8080/"
        },
        "id": "WydpiRL5637c",
        "outputId": "11293a42-15a8-4a87-f31a-41f2a97024d0"
      },
      "outputs": [
        {
          "output_type": "stream",
          "name": "stdout",
          "text": [
            "The person is a backend developer\n"
          ]
        }
      ],
      "source": [
        "class Employee:\n",
        "    def __init__ (\n",
        "            self,\n",
        "            designation : str = 'Developer',\n",
        "            frontend : bool = False,\n",
        "            backend : bool = True,\n",
        "    ):\n",
        "        self.designation = designation\n",
        "        self.frontend = frontend\n",
        "        self.backend = backend\n",
        "\n",
        "    def __repr__ (self):\n",
        "        return '{}'.format (self.designation, self.frontend, self.backend)\n",
        "\n",
        "\n",
        "    def verifier (self):\n",
        "      if self.frontend and self.backend:\n",
        "        self.designation=\"The person is full stack developer\"\n",
        "        return\n",
        "      if self.frontend:\n",
        "        self.designation=\"The person is a frontend developer\"\n",
        "        return\n",
        "      if self.backend:\n",
        "        self.designation =\"The person is a backend developer\"\n",
        "        return\n",
        "\n",
        "\n",
        "if __name__ == '__main__':\n",
        "    firstEmployee = Employee ()\n",
        "    firstEmployee.verifier();\n",
        "    print(firstEmployee)"
      ]
    }
  ]
}